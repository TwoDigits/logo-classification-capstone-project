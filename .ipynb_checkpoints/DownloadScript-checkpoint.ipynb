{
 "cells": [
  {
   "cell_type": "code",
   "execution_count": 1,
   "metadata": {},
   "outputs": [],
   "source": [
    "import csv\n",
    "\n",
    "#Read csv\n",
    "csvfile = open(\"urls.txt\")\n",
    "csvfilelist = csvfile.read()\n",
    "\n",
    "#Get data from each url\n",
    "def get_page_data():\n",
    "    for page_data in csvfilelist:\n",
    "        r = requests.get(page_data.strip())\n",
    "        soup = BeautifulSoup(r.text, 'html.parser')\n",
    "        return soup"
   ]
  },
  {
   "cell_type": "code",
   "execution_count": 8,
   "metadata": {},
   "outputs": [],
   "source": [
    "with open('urls.txt') as urls_data:\n",
    "    \turls_data.read()"
   ]
  },
  {
   "cell_type": "code",
   "execution_count": 20,
   "metadata": {},
   "outputs": [
    {
     "name": "stdout",
     "output_type": "stream",
     "text": [
      "['000000', 'http://2.bp.blogspot.com/-JPkk4qOc000/UDx9YTWDtwI/AAAAAAAAE0c/rbM2AXy4DME/s640/Accenture+campus+mindspace.jpg']\n"
     ]
    }
   ],
   "source": [
    "import requests\n",
    "from time import sleep\n",
    "\n",
    "from requests.adapters import HTTPAdapter\n",
    "from requests.packages.urllib3.util.retry import Retry\n",
    "\n",
    "\n",
    "\n",
    "\n",
    "\n",
    "with open('urls.txt', newline = '') as urls:                                                                                          \n",
    "    url_reader = csv.reader(urls, delimiter='\\t')\n",
    "    for url in url_reader:\n",
    "        with open('img'+url[0]+'.jpg', 'wb') as handle:\n",
    "            print(url)\n",
    "            session = requests.Session()\n",
    "            retry = Retry(connect=3, backoff_factor=0.5)\n",
    "            adapter = HTTPAdapter(max_retries=retry)\n",
    "            session.mount('http://', adapter)\n",
    "            session.mount('https://', adapter)\n",
    "\n",
    "            session.get(url[1])\n",
    "            #response = requests.get(url[1], stream=True)\n",
    "\n",
    "            if not response.ok:\n",
    "                print(response)\n",
    "\n",
    "            #for block in response.iter_content(1024):\n",
    "            #    if not block:\n",
    "            #        break\n",
    "                \n",
    "            handle.write(block)\n",
    "        break"
   ]
  }
 ],
 "metadata": {
  "kernelspec": {
   "display_name": "Python 3",
   "language": "python",
   "name": "python3"
  },
  "language_info": {
   "codemirror_mode": {
    "name": "ipython",
    "version": 3
   },
   "file_extension": ".py",
   "mimetype": "text/x-python",
   "name": "python",
   "nbconvert_exporter": "python",
   "pygments_lexer": "ipython3",
   "version": "3.6.5"
  }
 },
 "nbformat": 4,
 "nbformat_minor": 2
}
